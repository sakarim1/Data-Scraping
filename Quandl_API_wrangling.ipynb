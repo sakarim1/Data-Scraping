{
 "cells": [
  {
   "cell_type": "markdown",
   "metadata": {
    "slideshow": null
   },
   "source": [
    "# Quandl API Project\n"
   ]
  },
  {
   "cell_type": "code",
   "execution_count": null,
   "metadata": {},
   "outputs": [],
   "source": [
    "import pandas as pd\n",
    "import quandl"
   ]
  },
  {
   "cell_type": "markdown",
   "metadata": {},
   "source": [
    "### Getting the daily percentage change in the closing price for the first 100 trading days of 2016 for Tableau Software\n"
   ]
  },
  {
   "cell_type": "code",
   "execution_count": 44,
   "metadata": {
    "slideshow": null
   },
   "outputs": [
    {
     "data": {
      "text/html": [
       "<div>\n",
       "<style scoped>\n",
       "    .dataframe tbody tr th:only-of-type {\n",
       "        vertical-align: middle;\n",
       "    }\n",
       "\n",
       "    .dataframe tbody tr th {\n",
       "        vertical-align: top;\n",
       "    }\n",
       "\n",
       "    .dataframe thead th {\n",
       "        text-align: right;\n",
       "    }\n",
       "</style>\n",
       "<table border=\"1\" class=\"dataframe\">\n",
       "  <thead>\n",
       "    <tr style=\"text-align: right;\">\n",
       "      <th></th>\n",
       "      <th>Code</th>\n",
       "      <th>Description</th>\n",
       "    </tr>\n",
       "  </thead>\n",
       "  <tbody>\n",
       "    <tr>\n",
       "      <th>0</th>\n",
       "      <td>WIKI/AAPL</td>\n",
       "      <td>Apple Inc (AAPL) Prices, Dividends, Splits and...</td>\n",
       "    </tr>\n",
       "    <tr>\n",
       "      <th>1</th>\n",
       "      <td>WIKI/ABC</td>\n",
       "      <td>AmerisourceBergen Corp. (ABC) Prices, Dividend...</td>\n",
       "    </tr>\n",
       "    <tr>\n",
       "      <th>2</th>\n",
       "      <td>WIKI/AA</td>\n",
       "      <td>Alcoa Inc. (AA) Prices, Dividends, Splits and ...</td>\n",
       "    </tr>\n",
       "    <tr>\n",
       "      <th>3</th>\n",
       "      <td>WIKI/ABBV</td>\n",
       "      <td>AbbVie Inc. (ABBV) Prices, Dividends, Splits a...</td>\n",
       "    </tr>\n",
       "    <tr>\n",
       "      <th>4</th>\n",
       "      <td>WIKI/ACE</td>\n",
       "      <td>ACE Ltd (ACE) Prices, Dividends, Splits and Tr...</td>\n",
       "    </tr>\n",
       "    <tr>\n",
       "      <th>...</th>\n",
       "      <td>...</td>\n",
       "      <td>...</td>\n",
       "    </tr>\n",
       "    <tr>\n",
       "      <th>95</th>\n",
       "      <td>WIKI/CMG</td>\n",
       "      <td>Chipotle Mexican Grill (CMG) Prices, Dividends...</td>\n",
       "    </tr>\n",
       "    <tr>\n",
       "      <th>96</th>\n",
       "      <td>WIKI/CMS</td>\n",
       "      <td>CMS Energy Corp (CMS) Prices, Dividends, Split...</td>\n",
       "    </tr>\n",
       "    <tr>\n",
       "      <th>97</th>\n",
       "      <td>WIKI/CLF</td>\n",
       "      <td>Cliffs Natural Resources Inc. (CLF) Prices, Di...</td>\n",
       "    </tr>\n",
       "    <tr>\n",
       "      <th>98</th>\n",
       "      <td>WIKI/CLX</td>\n",
       "      <td>Clorox Co. (CLX) Prices, Dividends, Splits and...</td>\n",
       "    </tr>\n",
       "    <tr>\n",
       "      <th>99</th>\n",
       "      <td>WIKI/COF</td>\n",
       "      <td>Capital One Financial Corp (COF) Prices, Divid...</td>\n",
       "    </tr>\n",
       "  </tbody>\n",
       "</table>\n",
       "<p>100 rows × 2 columns</p>\n",
       "</div>"
      ],
      "text/plain": [
       "         Code                                        Description\n",
       "0   WIKI/AAPL  Apple Inc (AAPL) Prices, Dividends, Splits and...\n",
       "1    WIKI/ABC  AmerisourceBergen Corp. (ABC) Prices, Dividend...\n",
       "2     WIKI/AA  Alcoa Inc. (AA) Prices, Dividends, Splits and ...\n",
       "3   WIKI/ABBV  AbbVie Inc. (ABBV) Prices, Dividends, Splits a...\n",
       "4    WIKI/ACE  ACE Ltd (ACE) Prices, Dividends, Splits and Tr...\n",
       "..        ...                                                ...\n",
       "95   WIKI/CMG  Chipotle Mexican Grill (CMG) Prices, Dividends...\n",
       "96   WIKI/CMS  CMS Energy Corp (CMS) Prices, Dividends, Split...\n",
       "97   WIKI/CLF  Cliffs Natural Resources Inc. (CLF) Prices, Di...\n",
       "98   WIKI/CLX  Clorox Co. (CLX) Prices, Dividends, Splits and...\n",
       "99   WIKI/COF  Capital One Financial Corp (COF) Prices, Divid...\n",
       "\n",
       "[100 rows x 2 columns]"
      ]
     },
     "execution_count": 44,
     "metadata": {},
     "output_type": "execute_result"
    }
   ],
   "source": [
    "wiki_codes = pd.read_csv('WIKI-datasets-codes.csv', header=None,\n",
    "                    names=('Code', 'Description'))\n",
    "wiki_codes"
   ]
  },
  {
   "cell_type": "code",
   "execution_count": 161,
   "metadata": {
    "scrolled": true,
    "slideshow": null
   },
   "outputs": [],
   "source": [
    "prices = quandl.get('WIKI/DATA', start_date='2015-12-31') \n",
    "# Finding the Quandl code in `wiki_codes` for Tableau Softwareto to get only the data since 2016."
   ]
  },
  {
   "cell_type": "code",
   "execution_count": 163,
   "metadata": {
    "slideshow": null
   },
   "outputs": [
    {
     "name": "stdout",
     "output_type": "stream",
     "text": [
      "<class 'pandas.core.indexes.datetimes.DatetimeIndex'>\n"
     ]
    },
    {
     "data": {
      "text/html": [
       "<div>\n",
       "<style scoped>\n",
       "    .dataframe tbody tr th:only-of-type {\n",
       "        vertical-align: middle;\n",
       "    }\n",
       "\n",
       "    .dataframe tbody tr th {\n",
       "        vertical-align: top;\n",
       "    }\n",
       "\n",
       "    .dataframe thead th {\n",
       "        text-align: right;\n",
       "    }\n",
       "</style>\n",
       "<table border=\"1\" class=\"dataframe\">\n",
       "  <thead>\n",
       "    <tr style=\"text-align: right;\">\n",
       "      <th></th>\n",
       "      <th>Open</th>\n",
       "      <th>High</th>\n",
       "      <th>Low</th>\n",
       "      <th>Close</th>\n",
       "      <th>Volume</th>\n",
       "      <th>Ex-Dividend</th>\n",
       "      <th>Split Ratio</th>\n",
       "      <th>Adj. Open</th>\n",
       "      <th>Adj. High</th>\n",
       "      <th>Adj. Low</th>\n",
       "      <th>Adj. Close</th>\n",
       "      <th>Adj. Volume</th>\n",
       "    </tr>\n",
       "    <tr>\n",
       "      <th>Date</th>\n",
       "      <th></th>\n",
       "      <th></th>\n",
       "      <th></th>\n",
       "      <th></th>\n",
       "      <th></th>\n",
       "      <th></th>\n",
       "      <th></th>\n",
       "      <th></th>\n",
       "      <th></th>\n",
       "      <th></th>\n",
       "      <th></th>\n",
       "      <th></th>\n",
       "    </tr>\n",
       "  </thead>\n",
       "  <tbody>\n",
       "    <tr>\n",
       "      <th>2015-12-31</th>\n",
       "      <td>94.47</td>\n",
       "      <td>95.690</td>\n",
       "      <td>93.9100</td>\n",
       "      <td>94.22</td>\n",
       "      <td>478491.0</td>\n",
       "      <td>0.0</td>\n",
       "      <td>1.0</td>\n",
       "      <td>94.47</td>\n",
       "      <td>95.690</td>\n",
       "      <td>93.9100</td>\n",
       "      <td>94.22</td>\n",
       "      <td>478491.0</td>\n",
       "    </tr>\n",
       "    <tr>\n",
       "      <th>2016-01-04</th>\n",
       "      <td>92.71</td>\n",
       "      <td>93.903</td>\n",
       "      <td>91.5100</td>\n",
       "      <td>93.79</td>\n",
       "      <td>670113.0</td>\n",
       "      <td>0.0</td>\n",
       "      <td>1.0</td>\n",
       "      <td>92.71</td>\n",
       "      <td>93.903</td>\n",
       "      <td>91.5100</td>\n",
       "      <td>93.79</td>\n",
       "      <td>670113.0</td>\n",
       "    </tr>\n",
       "    <tr>\n",
       "      <th>2016-01-05</th>\n",
       "      <td>94.22</td>\n",
       "      <td>94.630</td>\n",
       "      <td>93.2901</td>\n",
       "      <td>94.30</td>\n",
       "      <td>518028.0</td>\n",
       "      <td>0.0</td>\n",
       "      <td>1.0</td>\n",
       "      <td>94.22</td>\n",
       "      <td>94.630</td>\n",
       "      <td>93.2901</td>\n",
       "      <td>94.30</td>\n",
       "      <td>518028.0</td>\n",
       "    </tr>\n",
       "    <tr>\n",
       "      <th>2016-01-06</th>\n",
       "      <td>92.86</td>\n",
       "      <td>94.720</td>\n",
       "      <td>92.0100</td>\n",
       "      <td>93.50</td>\n",
       "      <td>853171.0</td>\n",
       "      <td>0.0</td>\n",
       "      <td>1.0</td>\n",
       "      <td>92.86</td>\n",
       "      <td>94.720</td>\n",
       "      <td>92.0100</td>\n",
       "      <td>93.50</td>\n",
       "      <td>853171.0</td>\n",
       "    </tr>\n",
       "    <tr>\n",
       "      <th>2016-01-07</th>\n",
       "      <td>91.28</td>\n",
       "      <td>93.140</td>\n",
       "      <td>88.0000</td>\n",
       "      <td>88.57</td>\n",
       "      <td>1249746.0</td>\n",
       "      <td>0.0</td>\n",
       "      <td>1.0</td>\n",
       "      <td>91.28</td>\n",
       "      <td>93.140</td>\n",
       "      <td>88.0000</td>\n",
       "      <td>88.57</td>\n",
       "      <td>1249746.0</td>\n",
       "    </tr>\n",
       "  </tbody>\n",
       "</table>\n",
       "</div>"
      ],
      "text/plain": [
       "             Open    High      Low  Close     Volume  Ex-Dividend  \\\n",
       "Date                                                                \n",
       "2015-12-31  94.47  95.690  93.9100  94.22   478491.0          0.0   \n",
       "2016-01-04  92.71  93.903  91.5100  93.79   670113.0          0.0   \n",
       "2016-01-05  94.22  94.630  93.2901  94.30   518028.0          0.0   \n",
       "2016-01-06  92.86  94.720  92.0100  93.50   853171.0          0.0   \n",
       "2016-01-07  91.28  93.140  88.0000  88.57  1249746.0          0.0   \n",
       "\n",
       "            Split Ratio  Adj. Open  Adj. High  Adj. Low  Adj. Close  \\\n",
       "Date                                                                  \n",
       "2015-12-31          1.0      94.47     95.690   93.9100       94.22   \n",
       "2016-01-04          1.0      92.71     93.903   91.5100       93.79   \n",
       "2016-01-05          1.0      94.22     94.630   93.2901       94.30   \n",
       "2016-01-06          1.0      92.86     94.720   92.0100       93.50   \n",
       "2016-01-07          1.0      91.28     93.140   88.0000       88.57   \n",
       "\n",
       "            Adj. Volume  \n",
       "Date                     \n",
       "2015-12-31     478491.0  \n",
       "2016-01-04     670113.0  \n",
       "2016-01-05     518028.0  \n",
       "2016-01-06     853171.0  \n",
       "2016-01-07    1249746.0  "
      ]
     },
     "execution_count": 163,
     "metadata": {},
     "output_type": "execute_result"
    }
   ],
   "source": [
    "print(type(prices.index))\n",
    "prices.head()"
   ]
  },
  {
   "cell_type": "markdown",
   "metadata": {
    "slideshow": null
   },
   "source": [
    "### The only column I need is the \"Adj. Close\" column. It is adjusted for corporate actions like dividends and splits.  First I get the daily fractional change and then adjust it to be a percentage. "
   ]
  },
  {
   "cell_type": "code",
   "execution_count": 164,
   "metadata": {
    "slideshow": null
   },
   "outputs": [
    {
     "data": {
      "text/plain": [
       "Date\n",
       "2015-12-31         NaN\n",
       "2016-01-04   -0.456379\n",
       "2016-01-05    0.543768\n",
       "2016-01-06   -0.848356\n",
       "2016-01-07   -5.272727\n",
       "                ...   \n",
       "2018-03-21    0.610121\n",
       "2018-03-22   -1.545779\n",
       "2018-03-23   -1.678744\n",
       "2018-03-26    3.476231\n",
       "2018-03-27   -3.252612\n",
       "Name: Adj. Close, Length: 562, dtype: float64"
      ]
     },
     "execution_count": 164,
     "metadata": {},
     "output_type": "execute_result"
    }
   ],
   "source": [
    "close_change = prices['Adj. Close'].pct_change()*100\n",
    "close_change"
   ]
  },
  {
   "cell_type": "code",
   "execution_count": 165,
   "metadata": {
    "slideshow": null
   },
   "outputs": [],
   "source": [
    "# formatting the date"
   ]
  },
  {
   "cell_type": "code",
   "execution_count": 171,
   "metadata": {},
   "outputs": [
    {
     "data": {
      "text/plain": [
       "Index(['12/31/15', '1/04/16', '1/05/16', '1/06/16', '1/07/16', '1/08/16',\n",
       "       '1/11/16', '1/12/16', '1/13/16', '1/14/16',\n",
       "       ...\n",
       "       '3/14/18', '3/15/18', '3/16/18', '3/19/18', '3/20/18', '3/21/18',\n",
       "       '3/22/18', '3/23/18', '3/26/18', '3/27/18'],\n",
       "      dtype='object', name='Date', length=562)"
      ]
     },
     "execution_count": 171,
     "metadata": {},
     "output_type": "execute_result"
    }
   ],
   "source": [
    "date = prices.index\n",
    "date_str = date.strftime(\"%-m/%d/%y\")\n",
    "date_str"
   ]
  },
  {
   "cell_type": "code",
   "execution_count": null,
   "metadata": {},
   "outputs": [],
   "source": [
    "wiki_data_tuples = list(zip(date_str, close_change))"
   ]
  },
  {
   "cell_type": "code",
   "execution_count": null,
   "metadata": {},
   "outputs": [],
   "source": [
    "wiki_data_tuples_all = list(zip(date_str, close_change)) # first 100 days of 2016\n",
    "wiki_data_tuples = wiki_data_tuples_all[1:101] \n"
   ]
  },
  {
   "cell_type": "markdown",
   "metadata": {
    "slideshow": null
   },
   "source": [
    "### I now use data provided by the US [Bureau of Labor Statistics](https://www.quandl.com/data/BLSE?keyword=), which tracks monthly employment numbers by industry for each state."
   ]
  },
  {
   "cell_type": "code",
   "execution_count": 7,
   "metadata": {
    "scrolled": true,
    "slideshow": null
   },
   "outputs": [
    {
     "data": {
      "text/html": [
       "<div>\n",
       "<style scoped>\n",
       "    .dataframe tbody tr th:only-of-type {\n",
       "        vertical-align: middle;\n",
       "    }\n",
       "\n",
       "    .dataframe tbody tr th {\n",
       "        vertical-align: top;\n",
       "    }\n",
       "\n",
       "    .dataframe thead th {\n",
       "        text-align: right;\n",
       "    }\n",
       "</style>\n",
       "<table border=\"1\" class=\"dataframe\">\n",
       "  <thead>\n",
       "    <tr style=\"text-align: right;\">\n",
       "      <th></th>\n",
       "      <th>Code</th>\n",
       "      <th>Description</th>\n",
       "    </tr>\n",
       "  </thead>\n",
       "  <tbody>\n",
       "    <tr>\n",
       "      <th>0</th>\n",
       "      <td>BLSE/SMU24000005051700001</td>\n",
       "      <td>All Employees, In Thousands; Telecommunication...</td>\n",
       "    </tr>\n",
       "    <tr>\n",
       "      <th>1</th>\n",
       "      <td>BLSE/SMU51000000700000001</td>\n",
       "      <td>All Employees, In Thousands; Service-Providing...</td>\n",
       "    </tr>\n",
       "    <tr>\n",
       "      <th>2</th>\n",
       "      <td>BLSE/BDU0000000000000000110004RQ5</td>\n",
       "      <td>Employment; Gross Job Losses; All industries; ...</td>\n",
       "    </tr>\n",
       "    <tr>\n",
       "      <th>3</th>\n",
       "      <td>BLSE/BDU0000000000000000110005RQ5</td>\n",
       "      <td>Employment; Contractions; All industries; Rate...</td>\n",
       "    </tr>\n",
       "    <tr>\n",
       "      <th>4</th>\n",
       "      <td>BLSE/CEU0000000001</td>\n",
       "      <td>Employment - All employees, thousands; Total n...</td>\n",
       "    </tr>\n",
       "  </tbody>\n",
       "</table>\n",
       "</div>"
      ],
      "text/plain": [
       "                                Code  \\\n",
       "0          BLSE/SMU24000005051700001   \n",
       "1          BLSE/SMU51000000700000001   \n",
       "2  BLSE/BDU0000000000000000110004RQ5   \n",
       "3  BLSE/BDU0000000000000000110005RQ5   \n",
       "4                 BLSE/CEU0000000001   \n",
       "\n",
       "                                         Description  \n",
       "0  All Employees, In Thousands; Telecommunication...  \n",
       "1  All Employees, In Thousands; Service-Providing...  \n",
       "2  Employment; Gross Job Losses; All industries; ...  \n",
       "3  Employment; Contractions; All industries; Rate...  \n",
       "4  Employment - All employees, thousands; Total n...  "
      ]
     },
     "execution_count": 7,
     "metadata": {},
     "output_type": "execute_result"
    }
   ],
   "source": [
    "blse_codes = pd.read_csv('BLSE-datasets-codes.csv', header=None,\n",
    "                    names=('Code', 'Description'))\n",
    "blse_codes.head()"
   ]
  },
  {
   "cell_type": "code",
   "execution_count": null,
   "metadata": {},
   "outputs": [],
   "source": [
    "valid_codes = blse_codes[blse_codes['Description'].str.contains(\"All Employees\")]; valid_rows\n",
    "# Creating a new data frame that contains only \"All Employees\". "
   ]
  },
  {
   "cell_type": "code",
   "execution_count": null,
   "metadata": {},
   "outputs": [],
   "source": [
    "california =  valid_codes[valid_codes['Description'].str.contains(\"california|California\")] # Looking at California only\n",
    "california_codes = california['Code']"
   ]
  },
  {
   "cell_type": "code",
   "execution_count": 10,
   "metadata": {
    "slideshow": null
   },
   "outputs": [
    {
     "data": {
      "text/plain": [
       "('BLSE/SMU24000005051700001',\n",
       " 'All Employees, In Thousands; Telecommunications - Maryland')"
      ]
     },
     "execution_count": 10,
     "metadata": {},
     "output_type": "execute_result"
    }
   ],
   "source": [
    "# Downloading and storing tables corresponding with each Quandl code\n",
    "code = valid_codes.loc[0, 'Code']\n",
    "description = valid_codes.loc[0, 'Description']\n",
    "code, description\n"
   ]
  },
  {
   "cell_type": "code",
   "execution_count": 121,
   "metadata": {},
   "outputs": [
    {
     "data": {
      "text/html": [
       "<div>\n",
       "<style scoped>\n",
       "    .dataframe tbody tr th:only-of-type {\n",
       "        vertical-align: middle;\n",
       "    }\n",
       "\n",
       "    .dataframe tbody tr th {\n",
       "        vertical-align: top;\n",
       "    }\n",
       "\n",
       "    .dataframe thead th {\n",
       "        text-align: right;\n",
       "    }\n",
       "</style>\n",
       "<table border=\"1\" class=\"dataframe\">\n",
       "  <thead>\n",
       "    <tr style=\"text-align: right;\">\n",
       "      <th></th>\n",
       "      <th>Code</th>\n",
       "      <th>Description</th>\n",
       "    </tr>\n",
       "  </thead>\n",
       "  <tbody>\n",
       "    <tr>\n",
       "      <th>0</th>\n",
       "      <td>BLSE/SMU24000005051700001</td>\n",
       "      <td>All Employees, In Thousands; Telecommunication...</td>\n",
       "    </tr>\n",
       "    <tr>\n",
       "      <th>1</th>\n",
       "      <td>BLSE/SMU51000000700000001</td>\n",
       "      <td>All Employees, In Thousands; Service-Providing...</td>\n",
       "    </tr>\n",
       "    <tr>\n",
       "      <th>2</th>\n",
       "      <td>BLSE/SMS01000004100000001</td>\n",
       "      <td>All Employees, In Thousands; Wholesale Trade -...</td>\n",
       "    </tr>\n",
       "    <tr>\n",
       "      <th>3</th>\n",
       "      <td>BLSE/SMS02000004300000001</td>\n",
       "      <td>All Employees, In Thousands; Transportation an...</td>\n",
       "    </tr>\n",
       "    <tr>\n",
       "      <th>4</th>\n",
       "      <td>BLSE/SMS04000000500000001</td>\n",
       "      <td>All Employees, In Thousands; Total Private - A...</td>\n",
       "    </tr>\n",
       "    <tr>\n",
       "      <th>...</th>\n",
       "      <td>...</td>\n",
       "      <td>...</td>\n",
       "    </tr>\n",
       "    <tr>\n",
       "      <th>1113</th>\n",
       "      <td>BLSE/SMU56000003100000001</td>\n",
       "      <td>All Employees, In Thousands; Durable Goods - W...</td>\n",
       "    </tr>\n",
       "    <tr>\n",
       "      <th>1114</th>\n",
       "      <td>BLSE/SMU72000000000000001</td>\n",
       "      <td>All Employees, In Thousands; Total Nonfarm - P...</td>\n",
       "    </tr>\n",
       "    <tr>\n",
       "      <th>1115</th>\n",
       "      <td>BLSE/SMU72000009000000001</td>\n",
       "      <td>All Employees, In Thousands; Government - Puer...</td>\n",
       "    </tr>\n",
       "    <tr>\n",
       "      <th>1116</th>\n",
       "      <td>BLSE/SMU78000003000000001</td>\n",
       "      <td>All Employees, In Thousands; Manufacturing - V...</td>\n",
       "    </tr>\n",
       "    <tr>\n",
       "      <th>1117</th>\n",
       "      <td>BLSE/SMS21000003100000001</td>\n",
       "      <td>All Employees, In Thousands; Durable Goods - K...</td>\n",
       "    </tr>\n",
       "  </tbody>\n",
       "</table>\n",
       "<p>1118 rows × 2 columns</p>\n",
       "</div>"
      ],
      "text/plain": [
       "                           Code  \\\n",
       "0     BLSE/SMU24000005051700001   \n",
       "1     BLSE/SMU51000000700000001   \n",
       "2     BLSE/SMS01000004100000001   \n",
       "3     BLSE/SMS02000004300000001   \n",
       "4     BLSE/SMS04000000500000001   \n",
       "...                         ...   \n",
       "1113  BLSE/SMU56000003100000001   \n",
       "1114  BLSE/SMU72000000000000001   \n",
       "1115  BLSE/SMU72000009000000001   \n",
       "1116  BLSE/SMU78000003000000001   \n",
       "1117  BLSE/SMS21000003100000001   \n",
       "\n",
       "                                            Description  \n",
       "0     All Employees, In Thousands; Telecommunication...  \n",
       "1     All Employees, In Thousands; Service-Providing...  \n",
       "2     All Employees, In Thousands; Wholesale Trade -...  \n",
       "3     All Employees, In Thousands; Transportation an...  \n",
       "4     All Employees, In Thousands; Total Private - A...  \n",
       "...                                                 ...  \n",
       "1113  All Employees, In Thousands; Durable Goods - W...  \n",
       "1114  All Employees, In Thousands; Total Nonfarm - P...  \n",
       "1115  All Employees, In Thousands; Government - Puer...  \n",
       "1116  All Employees, In Thousands; Manufacturing - V...  \n",
       "1117  All Employees, In Thousands; Durable Goods - K...  \n",
       "\n",
       "[1118 rows x 2 columns]"
      ]
     },
     "execution_count": 121,
     "metadata": {},
     "output_type": "execute_result"
    }
   ],
   "source": [
    "valid_codes = valid_codes.reset_index(drop=True)\n",
    "valid_codes"
   ]
  },
  {
   "cell_type": "code",
   "execution_count": null,
   "metadata": {},
   "outputs": [],
   "source": [
    "df = quandl.get(code, start_date=\"2006-01-01\" ,end_date=\"2015-12-31\")"
   ]
  },
  {
   "cell_type": "code",
   "execution_count": 17,
   "metadata": {},
   "outputs": [
    {
     "data": {
      "text/html": [
       "<div>\n",
       "<style scoped>\n",
       "    .dataframe tbody tr th:only-of-type {\n",
       "        vertical-align: middle;\n",
       "    }\n",
       "\n",
       "    .dataframe tbody tr th {\n",
       "        vertical-align: top;\n",
       "    }\n",
       "\n",
       "    .dataframe thead th {\n",
       "        text-align: right;\n",
       "    }\n",
       "</style>\n",
       "<table border=\"1\" class=\"dataframe\">\n",
       "  <thead>\n",
       "    <tr style=\"text-align: right;\">\n",
       "      <th></th>\n",
       "      <th>Value</th>\n",
       "      <th>State</th>\n",
       "    </tr>\n",
       "    <tr>\n",
       "      <th>Date</th>\n",
       "      <th></th>\n",
       "      <th></th>\n",
       "    </tr>\n",
       "  </thead>\n",
       "  <tbody>\n",
       "    <tr>\n",
       "      <th>2006-01-31</th>\n",
       "      <td>20.2</td>\n",
       "      <td>Maryland</td>\n",
       "    </tr>\n",
       "    <tr>\n",
       "      <th>2006-02-28</th>\n",
       "      <td>20.3</td>\n",
       "      <td>Maryland</td>\n",
       "    </tr>\n",
       "    <tr>\n",
       "      <th>2006-03-31</th>\n",
       "      <td>20.4</td>\n",
       "      <td>Maryland</td>\n",
       "    </tr>\n",
       "    <tr>\n",
       "      <th>2006-04-30</th>\n",
       "      <td>20.5</td>\n",
       "      <td>Maryland</td>\n",
       "    </tr>\n",
       "    <tr>\n",
       "      <th>2006-05-31</th>\n",
       "      <td>20.6</td>\n",
       "      <td>Maryland</td>\n",
       "    </tr>\n",
       "    <tr>\n",
       "      <th>...</th>\n",
       "      <td>...</td>\n",
       "      <td>...</td>\n",
       "    </tr>\n",
       "    <tr>\n",
       "      <th>2015-08-31</th>\n",
       "      <td>14.3</td>\n",
       "      <td>Maryland</td>\n",
       "    </tr>\n",
       "    <tr>\n",
       "      <th>2015-09-30</th>\n",
       "      <td>14.2</td>\n",
       "      <td>Maryland</td>\n",
       "    </tr>\n",
       "    <tr>\n",
       "      <th>2015-10-31</th>\n",
       "      <td>14.9</td>\n",
       "      <td>Maryland</td>\n",
       "    </tr>\n",
       "    <tr>\n",
       "      <th>2015-11-30</th>\n",
       "      <td>14.3</td>\n",
       "      <td>Maryland</td>\n",
       "    </tr>\n",
       "    <tr>\n",
       "      <th>2015-12-31</th>\n",
       "      <td>14.2</td>\n",
       "      <td>Maryland</td>\n",
       "    </tr>\n",
       "  </tbody>\n",
       "</table>\n",
       "<p>120 rows × 2 columns</p>\n",
       "</div>"
      ],
      "text/plain": [
       "            Value     State\n",
       "Date                       \n",
       "2006-01-31   20.2  Maryland\n",
       "2006-02-28   20.3  Maryland\n",
       "2006-03-31   20.4  Maryland\n",
       "2006-04-30   20.5  Maryland\n",
       "2006-05-31   20.6  Maryland\n",
       "...           ...       ...\n",
       "2015-08-31   14.3  Maryland\n",
       "2015-09-30   14.2  Maryland\n",
       "2015-10-31   14.9  Maryland\n",
       "2015-11-30   14.3  Maryland\n",
       "2015-12-31   14.2  Maryland\n",
       "\n",
       "[120 rows x 2 columns]"
      ]
     },
     "execution_count": 17,
     "metadata": {},
     "output_type": "execute_result"
    }
   ],
   "source": [
    "df['State'] = pd.Series('Maryland', index=df.index)\n",
    "df"
   ]
  },
  {
   "cell_type": "markdown",
   "metadata": {
    "slideshow": null
   },
   "source": [
    "Now that we have these values, let's add them as new columns."
   ]
  },
  {
   "cell_type": "code",
   "execution_count": 154,
   "metadata": {
    "slideshow": null
   },
   "outputs": [
    {
     "data": {
      "text/html": [
       "<div>\n",
       "<style scoped>\n",
       "    .dataframe tbody tr th:only-of-type {\n",
       "        vertical-align: middle;\n",
       "    }\n",
       "\n",
       "    .dataframe tbody tr th {\n",
       "        vertical-align: top;\n",
       "    }\n",
       "\n",
       "    .dataframe thead th {\n",
       "        text-align: right;\n",
       "    }\n",
       "</style>\n",
       "<table border=\"1\" class=\"dataframe\">\n",
       "  <thead>\n",
       "    <tr style=\"text-align: right;\">\n",
       "      <th></th>\n",
       "      <th>Value</th>\n",
       "      <th>State</th>\n",
       "      <th>Category</th>\n",
       "      <th>Adjusted</th>\n",
       "    </tr>\n",
       "    <tr>\n",
       "      <th>Date</th>\n",
       "      <th></th>\n",
       "      <th></th>\n",
       "      <th></th>\n",
       "      <th></th>\n",
       "    </tr>\n",
       "  </thead>\n",
       "  <tbody>\n",
       "    <tr>\n",
       "      <th>2006-01-31</th>\n",
       "      <td>20.2</td>\n",
       "      <td>Maryland</td>\n",
       "      <td>Telecommunications</td>\n",
       "      <td>False</td>\n",
       "    </tr>\n",
       "    <tr>\n",
       "      <th>2006-02-28</th>\n",
       "      <td>20.3</td>\n",
       "      <td>Maryland</td>\n",
       "      <td>Telecommunications</td>\n",
       "      <td>False</td>\n",
       "    </tr>\n",
       "    <tr>\n",
       "      <th>2006-03-31</th>\n",
       "      <td>20.4</td>\n",
       "      <td>Maryland</td>\n",
       "      <td>Telecommunications</td>\n",
       "      <td>False</td>\n",
       "    </tr>\n",
       "    <tr>\n",
       "      <th>2006-04-30</th>\n",
       "      <td>20.5</td>\n",
       "      <td>Maryland</td>\n",
       "      <td>Telecommunications</td>\n",
       "      <td>False</td>\n",
       "    </tr>\n",
       "    <tr>\n",
       "      <th>2006-05-31</th>\n",
       "      <td>20.6</td>\n",
       "      <td>Maryland</td>\n",
       "      <td>Telecommunications</td>\n",
       "      <td>False</td>\n",
       "    </tr>\n",
       "  </tbody>\n",
       "</table>\n",
       "</div>"
      ],
      "text/plain": [
       "            Value     State            Category  Adjusted\n",
       "Date                                                     \n",
       "2006-01-31   20.2  Maryland  Telecommunications     False\n",
       "2006-02-28   20.3  Maryland  Telecommunications     False\n",
       "2006-03-31   20.4  Maryland  Telecommunications     False\n",
       "2006-04-30   20.5  Maryland  Telecommunications     False\n",
       "2006-05-31   20.6  Maryland  Telecommunications     False"
      ]
     },
     "execution_count": 154,
     "metadata": {},
     "output_type": "execute_result"
    }
   ],
   "source": [
    "df['State'] = pd.Series(state, index=df.index)\n",
    "df['Category'] = pd.Series(category, index=df.index)\n",
    "df['Adjusted'] = pd.Series(adjusted, index=df.index)\n",
    "df.head()"
   ]
  },
  {
   "cell_type": "markdown",
   "metadata": {
    "slideshow": null
   },
   "source": [
    "### Putting the process into a a single function to be able to use it for each `BLSE` data set.  "
   ]
  },
  {
   "cell_type": "code",
   "execution_count": 109,
   "metadata": {
    "slideshow": null
   },
   "outputs": [
    {
     "data": {
      "text/html": [
       "<div>\n",
       "<style scoped>\n",
       "    .dataframe tbody tr th:only-of-type {\n",
       "        vertical-align: middle;\n",
       "    }\n",
       "\n",
       "    .dataframe tbody tr th {\n",
       "        vertical-align: top;\n",
       "    }\n",
       "\n",
       "    .dataframe thead th {\n",
       "        text-align: right;\n",
       "    }\n",
       "</style>\n",
       "<table border=\"1\" class=\"dataframe\">\n",
       "  <thead>\n",
       "    <tr style=\"text-align: right;\">\n",
       "      <th></th>\n",
       "      <th>Value</th>\n",
       "      <th>State</th>\n",
       "      <th>Category</th>\n",
       "      <th>Adjusted</th>\n",
       "    </tr>\n",
       "    <tr>\n",
       "      <th>Date</th>\n",
       "      <th></th>\n",
       "      <th></th>\n",
       "      <th></th>\n",
       "      <th></th>\n",
       "    </tr>\n",
       "  </thead>\n",
       "  <tbody>\n",
       "    <tr>\n",
       "      <th>2006-01-31</th>\n",
       "      <td>168.7</td>\n",
       "      <td>Kentucky</td>\n",
       "      <td>Durable Goods</td>\n",
       "      <td>True</td>\n",
       "    </tr>\n",
       "    <tr>\n",
       "      <th>2006-02-28</th>\n",
       "      <td>168.0</td>\n",
       "      <td>Kentucky</td>\n",
       "      <td>Durable Goods</td>\n",
       "      <td>True</td>\n",
       "    </tr>\n",
       "    <tr>\n",
       "      <th>2006-03-31</th>\n",
       "      <td>168.4</td>\n",
       "      <td>Kentucky</td>\n",
       "      <td>Durable Goods</td>\n",
       "      <td>True</td>\n",
       "    </tr>\n",
       "    <tr>\n",
       "      <th>2006-04-30</th>\n",
       "      <td>168.3</td>\n",
       "      <td>Kentucky</td>\n",
       "      <td>Durable Goods</td>\n",
       "      <td>True</td>\n",
       "    </tr>\n",
       "    <tr>\n",
       "      <th>2006-05-31</th>\n",
       "      <td>168.0</td>\n",
       "      <td>Kentucky</td>\n",
       "      <td>Durable Goods</td>\n",
       "      <td>True</td>\n",
       "    </tr>\n",
       "  </tbody>\n",
       "</table>\n",
       "</div>"
      ],
      "text/plain": [
       "            Value     State       Category  Adjusted\n",
       "Date                                                \n",
       "2006-01-31  168.7  Kentucky  Durable Goods      True\n",
       "2006-02-28  168.0  Kentucky  Durable Goods      True\n",
       "2006-03-31  168.4  Kentucky  Durable Goods      True\n",
       "2006-04-30  168.3  Kentucky  Durable Goods      True\n",
       "2006-05-31  168.0  Kentucky  Durable Goods      True"
      ]
     },
     "execution_count": 109,
     "metadata": {},
     "output_type": "execute_result"
    }
   ],
   "source": [
    "import re\n",
    "def get_data(code, description):\n",
    "    \n",
    "    category = re.findall(\";\\s(.+)\\s-\", description)\n",
    "    state = re.findall(\"-\\s(.+)\", description)\n",
    "    adjusted = True if code[7] == 'S' else False\n",
    "    df = quandl.get(code, start_date=\"2006-01-01\" ,end_date=\"2015-12-31\") # Download data\n",
    "    df['State'] = pd.Series(state[0], index=df.index)\n",
    "    df['Category'] = pd.Series(category[0], index=df.index)\n",
    "    df['Adjusted'] = pd.Series(adjusted, index=df.index)\n",
    "    \n",
    "    return df\n",
    "\n",
    "get_data(code, description).head()"
   ]
  },
  {
   "cell_type": "code",
   "execution_count": 113,
   "metadata": {},
   "outputs": [
    {
     "data": {
      "text/html": [
       "<div>\n",
       "<style scoped>\n",
       "    .dataframe tbody tr th:only-of-type {\n",
       "        vertical-align: middle;\n",
       "    }\n",
       "\n",
       "    .dataframe tbody tr th {\n",
       "        vertical-align: top;\n",
       "    }\n",
       "\n",
       "    .dataframe thead th {\n",
       "        text-align: right;\n",
       "    }\n",
       "</style>\n",
       "<table border=\"1\" class=\"dataframe\">\n",
       "  <thead>\n",
       "    <tr style=\"text-align: right;\">\n",
       "      <th></th>\n",
       "      <th>Value</th>\n",
       "      <th>State</th>\n",
       "      <th>Category</th>\n",
       "      <th>Adjusted</th>\n",
       "    </tr>\n",
       "    <tr>\n",
       "      <th>Date</th>\n",
       "      <th></th>\n",
       "      <th></th>\n",
       "      <th></th>\n",
       "      <th></th>\n",
       "    </tr>\n",
       "  </thead>\n",
       "  <tbody>\n",
       "    <tr>\n",
       "      <th>2006-01-31</th>\n",
       "      <td>80.4</td>\n",
       "      <td>Alabama</td>\n",
       "      <td>Wholesale Trade</td>\n",
       "      <td>True</td>\n",
       "    </tr>\n",
       "    <tr>\n",
       "      <th>2006-02-28</th>\n",
       "      <td>80.6</td>\n",
       "      <td>Alabama</td>\n",
       "      <td>Wholesale Trade</td>\n",
       "      <td>True</td>\n",
       "    </tr>\n",
       "    <tr>\n",
       "      <th>2006-03-31</th>\n",
       "      <td>81.0</td>\n",
       "      <td>Alabama</td>\n",
       "      <td>Wholesale Trade</td>\n",
       "      <td>True</td>\n",
       "    </tr>\n",
       "    <tr>\n",
       "      <th>2006-04-30</th>\n",
       "      <td>81.0</td>\n",
       "      <td>Alabama</td>\n",
       "      <td>Wholesale Trade</td>\n",
       "      <td>True</td>\n",
       "    </tr>\n",
       "    <tr>\n",
       "      <th>2006-05-31</th>\n",
       "      <td>81.2</td>\n",
       "      <td>Alabama</td>\n",
       "      <td>Wholesale Trade</td>\n",
       "      <td>True</td>\n",
       "    </tr>\n",
       "    <tr>\n",
       "      <th>...</th>\n",
       "      <td>...</td>\n",
       "      <td>...</td>\n",
       "      <td>...</td>\n",
       "      <td>...</td>\n",
       "    </tr>\n",
       "    <tr>\n",
       "      <th>2015-08-31</th>\n",
       "      <td>73.7</td>\n",
       "      <td>Alabama</td>\n",
       "      <td>Wholesale Trade</td>\n",
       "      <td>True</td>\n",
       "    </tr>\n",
       "    <tr>\n",
       "      <th>2015-09-30</th>\n",
       "      <td>73.6</td>\n",
       "      <td>Alabama</td>\n",
       "      <td>Wholesale Trade</td>\n",
       "      <td>True</td>\n",
       "    </tr>\n",
       "    <tr>\n",
       "      <th>2015-10-31</th>\n",
       "      <td>73.7</td>\n",
       "      <td>Alabama</td>\n",
       "      <td>Wholesale Trade</td>\n",
       "      <td>True</td>\n",
       "    </tr>\n",
       "    <tr>\n",
       "      <th>2015-11-30</th>\n",
       "      <td>73.6</td>\n",
       "      <td>Alabama</td>\n",
       "      <td>Wholesale Trade</td>\n",
       "      <td>True</td>\n",
       "    </tr>\n",
       "    <tr>\n",
       "      <th>2015-12-31</th>\n",
       "      <td>73.4</td>\n",
       "      <td>Alabama</td>\n",
       "      <td>Wholesale Trade</td>\n",
       "      <td>True</td>\n",
       "    </tr>\n",
       "  </tbody>\n",
       "</table>\n",
       "<p>120 rows × 4 columns</p>\n",
       "</div>"
      ],
      "text/plain": [
       "            Value    State         Category  Adjusted\n",
       "Date                                                 \n",
       "2006-01-31   80.4  Alabama  Wholesale Trade      True\n",
       "2006-02-28   80.6  Alabama  Wholesale Trade      True\n",
       "2006-03-31   81.0  Alabama  Wholesale Trade      True\n",
       "2006-04-30   81.0  Alabama  Wholesale Trade      True\n",
       "2006-05-31   81.2  Alabama  Wholesale Trade      True\n",
       "...           ...      ...              ...       ...\n",
       "2015-08-31   73.7  Alabama  Wholesale Trade      True\n",
       "2015-09-30   73.6  Alabama  Wholesale Trade      True\n",
       "2015-10-31   73.7  Alabama  Wholesale Trade      True\n",
       "2015-11-30   73.6  Alabama  Wholesale Trade      True\n",
       "2015-12-31   73.4  Alabama  Wholesale Trade      True\n",
       "\n",
       "[120 rows x 4 columns]"
      ]
     },
     "execution_count": 113,
     "metadata": {},
     "output_type": "execute_result"
    }
   ],
   "source": [
    "get_data( valid_codes.loc[2, 'Code'],  valid_codes.loc[2, 'Description'])"
   ]
  },
  {
   "cell_type": "markdown",
   "metadata": {
    "slideshow": null
   },
   "source": [
    "### Getting all data"
   ]
  },
  {
   "cell_type": "code",
   "execution_count": 123,
   "metadata": {
    "slideshow": null
   },
   "outputs": [],
   "source": [
    "df_all = pd.concat(get_data(code, description) for code, description\n",
    "                   in valid_codes.itertuples(index=False))\n"
   ]
  },
  {
   "cell_type": "code",
   "execution_count": 127,
   "metadata": {},
   "outputs": [],
   "source": [
    "import pickle\n",
    "pickle.dump(df_all, open('df_all.data', 'wb'))"
   ]
  },
  {
   "cell_type": "code",
   "execution_count": 4,
   "metadata": {},
   "outputs": [],
   "source": [
    "import pickle\n",
    "df_all = pickle.load(open('df_all.data', 'rb'))"
   ]
  },
  {
   "cell_type": "code",
   "execution_count": 5,
   "metadata": {},
   "outputs": [],
   "source": [
    "df_all =df_all[df_all['Category']!='Total Private']\n"
   ]
  },
  {
   "cell_type": "code",
   "execution_count": 6,
   "metadata": {},
   "outputs": [],
   "source": [
    "df_all = df_all[df_all['Category']!='Total Nonfarm']\n"
   ]
  },
  {
   "cell_type": "code",
   "execution_count": 7,
   "metadata": {
    "slideshow": null
   },
   "outputs": [],
   "source": [
    "df_raw = df_all[df_all['Adjusted']==False] # Unadjusted data\n",
    "df_adj = df_all[df_all['Adjusted']==True] # Adjusted data"
   ]
  },
  {
   "cell_type": "markdown",
   "metadata": {
    "slideshow": null
   },
   "source": [
    "### Getting the 100 largest state-industry pairs for December 2015 using the unadjusted data"
   ]
  },
  {
   "cell_type": "code",
   "execution_count": 8,
   "metadata": {
    "slideshow": null
   },
   "outputs": [],
   "source": [
    "# Selecting out only the results from 12/2015\n",
    "dec15 = df_raw.loc['2015-12']\n"
   ]
  },
  {
   "cell_type": "code",
   "execution_count": 6,
   "metadata": {},
   "outputs": [
    {
     "data": {
      "text/html": [
       "<div>\n",
       "<style scoped>\n",
       "    .dataframe tbody tr th:only-of-type {\n",
       "        vertical-align: middle;\n",
       "    }\n",
       "\n",
       "    .dataframe tbody tr th {\n",
       "        vertical-align: top;\n",
       "    }\n",
       "\n",
       "    .dataframe thead th {\n",
       "        text-align: right;\n",
       "    }\n",
       "</style>\n",
       "<table border=\"1\" class=\"dataframe\">\n",
       "  <thead>\n",
       "    <tr style=\"text-align: right;\">\n",
       "      <th></th>\n",
       "      <th>Date</th>\n",
       "      <th>Value</th>\n",
       "      <th>State</th>\n",
       "      <th>Category</th>\n",
       "      <th>Adjusted</th>\n",
       "    </tr>\n",
       "  </thead>\n",
       "  <tbody>\n",
       "    <tr>\n",
       "      <th>0</th>\n",
       "      <td>2015-12-31</td>\n",
       "      <td>14362.2</td>\n",
       "      <td>California</td>\n",
       "      <td>Service-Providing</td>\n",
       "      <td>False</td>\n",
       "    </tr>\n",
       "    <tr>\n",
       "      <th>1</th>\n",
       "      <td>2015-12-31</td>\n",
       "      <td>10239.2</td>\n",
       "      <td>Texas</td>\n",
       "      <td>Service-Providing</td>\n",
       "      <td>False</td>\n",
       "    </tr>\n",
       "    <tr>\n",
       "      <th>2</th>\n",
       "      <td>2015-12-31</td>\n",
       "      <td>8665.8</td>\n",
       "      <td>New York</td>\n",
       "      <td>Service-Providing</td>\n",
       "      <td>False</td>\n",
       "    </tr>\n",
       "    <tr>\n",
       "      <th>3</th>\n",
       "      <td>2015-12-31</td>\n",
       "      <td>7551.2</td>\n",
       "      <td>Florida</td>\n",
       "      <td>Service-Providing</td>\n",
       "      <td>False</td>\n",
       "    </tr>\n",
       "    <tr>\n",
       "      <th>4</th>\n",
       "      <td>2015-12-31</td>\n",
       "      <td>5244.8</td>\n",
       "      <td>Illinois</td>\n",
       "      <td>Service-Providing</td>\n",
       "      <td>False</td>\n",
       "    </tr>\n",
       "    <tr>\n",
       "      <th>...</th>\n",
       "      <td>...</td>\n",
       "      <td>...</td>\n",
       "      <td>...</td>\n",
       "      <td>...</td>\n",
       "      <td>...</td>\n",
       "    </tr>\n",
       "    <tr>\n",
       "      <th>95</th>\n",
       "      <td>2015-12-31</td>\n",
       "      <td>434.5</td>\n",
       "      <td>Minnesota</td>\n",
       "      <td>Goods Producing</td>\n",
       "      <td>False</td>\n",
       "    </tr>\n",
       "    <tr>\n",
       "      <th>96</th>\n",
       "      <td>2015-12-31</td>\n",
       "      <td>431.8</td>\n",
       "      <td>Virginia</td>\n",
       "      <td>Goods Producing</td>\n",
       "      <td>False</td>\n",
       "    </tr>\n",
       "    <tr>\n",
       "      <th>97</th>\n",
       "      <td>2015-12-31</td>\n",
       "      <td>429.2</td>\n",
       "      <td>Minnesota</td>\n",
       "      <td>Government</td>\n",
       "      <td>False</td>\n",
       "    </tr>\n",
       "    <tr>\n",
       "      <th>98</th>\n",
       "      <td>2015-12-31</td>\n",
       "      <td>427.0</td>\n",
       "      <td>Colorado</td>\n",
       "      <td>Government</td>\n",
       "      <td>False</td>\n",
       "    </tr>\n",
       "    <tr>\n",
       "      <th>99</th>\n",
       "      <td>2015-12-31</td>\n",
       "      <td>422.7</td>\n",
       "      <td>Wisconsin</td>\n",
       "      <td>Government</td>\n",
       "      <td>False</td>\n",
       "    </tr>\n",
       "  </tbody>\n",
       "</table>\n",
       "<p>100 rows × 5 columns</p>\n",
       "</div>"
      ],
      "text/plain": [
       "         Date    Value       State           Category  Adjusted\n",
       "0  2015-12-31  14362.2  California  Service-Providing     False\n",
       "1  2015-12-31  10239.2       Texas  Service-Providing     False\n",
       "2  2015-12-31   8665.8    New York  Service-Providing     False\n",
       "3  2015-12-31   7551.2     Florida  Service-Providing     False\n",
       "4  2015-12-31   5244.8    Illinois  Service-Providing     False\n",
       "..        ...      ...         ...                ...       ...\n",
       "95 2015-12-31    434.5   Minnesota    Goods Producing     False\n",
       "96 2015-12-31    431.8    Virginia    Goods Producing     False\n",
       "97 2015-12-31    429.2   Minnesota         Government     False\n",
       "98 2015-12-31    427.0    Colorado         Government     False\n",
       "99 2015-12-31    422.7   Wisconsin         Government     False\n",
       "\n",
       "[100 rows x 5 columns]"
      ]
     },
     "execution_count": 6,
     "metadata": {},
     "output_type": "execute_result"
    }
   ],
   "source": [
    "# Sorting them by 'Value' and choose the top 100\n",
    "top100 = dec15.sort_values('Value', ascending=False).reset_index()\n",
    "top100 = top100.loc[0:99]\n",
    "top100"
   ]
  },
  {
   "cell_type": "code",
   "execution_count": null,
   "metadata": {},
   "outputs": [],
   "source": [
    "state_category = list(zip(top100['State'], top100['Category']))"
   ]
  },
  {
   "cell_type": "code",
   "execution_count": 8,
   "metadata": {},
   "outputs": [],
   "source": [
    "employment = list(round(top100['Value']*1000))"
   ]
  },
  {
   "cell_type": "code",
   "execution_count": null,
   "metadata": {},
   "outputs": [],
   "source": [
    "state_industry_tuples = list(zip(state_category, employment))\n",
    "state_industry_tuples"
   ]
  },
  {
   "cell_type": "code",
   "execution_count": null,
   "metadata": {},
   "outputs": [],
   "source": [
    "data = dec15.groupby(['State']).sum() ## what are the total number of employed people in each state in December 2015?\n",
    "data.reset_index(inplace=True)"
   ]
  },
  {
   "cell_type": "markdown",
   "metadata": {
    "slideshow": null
   },
   "source": [
    "### Determining which industry experienced the largest percent growth from December 2006 to December 2015\n"
   ]
  },
  {
   "cell_type": "code",
   "execution_count": 10,
   "metadata": {
    "slideshow": null
   },
   "outputs": [
    {
     "data": {
      "text/html": [
       "<div>\n",
       "<style scoped>\n",
       "    .dataframe tbody tr th:only-of-type {\n",
       "        vertical-align: middle;\n",
       "    }\n",
       "\n",
       "    .dataframe tbody tr th {\n",
       "        vertical-align: top;\n",
       "    }\n",
       "\n",
       "    .dataframe thead th {\n",
       "        text-align: right;\n",
       "    }\n",
       "</style>\n",
       "<table border=\"1\" class=\"dataframe\">\n",
       "  <thead>\n",
       "    <tr style=\"text-align: right;\">\n",
       "      <th></th>\n",
       "      <th>Value</th>\n",
       "      <th>State</th>\n",
       "      <th>Category</th>\n",
       "      <th>Adjusted</th>\n",
       "    </tr>\n",
       "    <tr>\n",
       "      <th>Date</th>\n",
       "      <th></th>\n",
       "      <th></th>\n",
       "      <th></th>\n",
       "      <th></th>\n",
       "    </tr>\n",
       "  </thead>\n",
       "  <tbody>\n",
       "    <tr>\n",
       "      <th>2006-12-31</th>\n",
       "      <td>21.5</td>\n",
       "      <td>Maryland</td>\n",
       "      <td>Telecommunications</td>\n",
       "      <td>False</td>\n",
       "    </tr>\n",
       "    <tr>\n",
       "      <th>2006-12-31</th>\n",
       "      <td>3239.3</td>\n",
       "      <td>Virginia</td>\n",
       "      <td>Service-Providing</td>\n",
       "      <td>False</td>\n",
       "    </tr>\n",
       "    <tr>\n",
       "      <th>2006-12-31</th>\n",
       "      <td>82.2</td>\n",
       "      <td>Alabama</td>\n",
       "      <td>Wholesale Trade</td>\n",
       "      <td>False</td>\n",
       "    </tr>\n",
       "    <tr>\n",
       "      <th>2006-12-31</th>\n",
       "      <td>427.4</td>\n",
       "      <td>Arizona</td>\n",
       "      <td>Goods Producing</td>\n",
       "      <td>False</td>\n",
       "    </tr>\n",
       "    <tr>\n",
       "      <th>2006-12-31</th>\n",
       "      <td>188.0</td>\n",
       "      <td>Alabama</td>\n",
       "      <td>Durable Goods</td>\n",
       "      <td>False</td>\n",
       "    </tr>\n",
       "    <tr>\n",
       "      <th>...</th>\n",
       "      <td>...</td>\n",
       "      <td>...</td>\n",
       "      <td>...</td>\n",
       "      <td>...</td>\n",
       "    </tr>\n",
       "    <tr>\n",
       "      <th>2006-12-31</th>\n",
       "      <td>12.5</td>\n",
       "      <td>Virgin Islands</td>\n",
       "      <td>Government</td>\n",
       "      <td>False</td>\n",
       "    </tr>\n",
       "    <tr>\n",
       "      <th>2006-12-31</th>\n",
       "      <td>219.5</td>\n",
       "      <td>Wyoming</td>\n",
       "      <td>Service-Providing</td>\n",
       "      <td>False</td>\n",
       "    </tr>\n",
       "    <tr>\n",
       "      <th>2006-12-31</th>\n",
       "      <td>5.5</td>\n",
       "      <td>Wyoming</td>\n",
       "      <td>Durable Goods</td>\n",
       "      <td>False</td>\n",
       "    </tr>\n",
       "    <tr>\n",
       "      <th>2006-12-31</th>\n",
       "      <td>296.9</td>\n",
       "      <td>Puerto Rico</td>\n",
       "      <td>Government</td>\n",
       "      <td>False</td>\n",
       "    </tr>\n",
       "    <tr>\n",
       "      <th>2006-12-31</th>\n",
       "      <td>2.3</td>\n",
       "      <td>Virgin Islands</td>\n",
       "      <td>Manufacturing</td>\n",
       "      <td>False</td>\n",
       "    </tr>\n",
       "  </tbody>\n",
       "</table>\n",
       "<p>518 rows × 4 columns</p>\n",
       "</div>"
      ],
      "text/plain": [
       "             Value           State            Category  Adjusted\n",
       "Date                                                            \n",
       "2006-12-31    21.5        Maryland  Telecommunications     False\n",
       "2006-12-31  3239.3        Virginia   Service-Providing     False\n",
       "2006-12-31    82.2         Alabama     Wholesale Trade     False\n",
       "2006-12-31   427.4         Arizona     Goods Producing     False\n",
       "2006-12-31   188.0         Alabama       Durable Goods     False\n",
       "...            ...             ...                 ...       ...\n",
       "2006-12-31    12.5  Virgin Islands          Government     False\n",
       "2006-12-31   219.5         Wyoming   Service-Providing     False\n",
       "2006-12-31     5.5         Wyoming       Durable Goods     False\n",
       "2006-12-31   296.9     Puerto Rico          Government     False\n",
       "2006-12-31     2.3  Virgin Islands       Manufacturing     False\n",
       "\n",
       "[518 rows x 4 columns]"
      ]
     },
     "execution_count": 10,
     "metadata": {},
     "output_type": "execute_result"
    }
   ],
   "source": [
    "dec06 = df_raw.loc['2006-12']\n",
    "dec06"
   ]
  },
  {
   "cell_type": "code",
   "execution_count": 11,
   "metadata": {},
   "outputs": [
    {
     "data": {
      "text/html": [
       "<div>\n",
       "<style scoped>\n",
       "    .dataframe tbody tr th:only-of-type {\n",
       "        vertical-align: middle;\n",
       "    }\n",
       "\n",
       "    .dataframe tbody tr th {\n",
       "        vertical-align: top;\n",
       "    }\n",
       "\n",
       "    .dataframe thead th {\n",
       "        text-align: right;\n",
       "    }\n",
       "</style>\n",
       "<table border=\"1\" class=\"dataframe\">\n",
       "  <thead>\n",
       "    <tr style=\"text-align: right;\">\n",
       "      <th></th>\n",
       "      <th>Date</th>\n",
       "      <th>Value</th>\n",
       "      <th>State</th>\n",
       "      <th>Category</th>\n",
       "      <th>Adjusted</th>\n",
       "    </tr>\n",
       "  </thead>\n",
       "  <tbody>\n",
       "    <tr>\n",
       "      <th>0</th>\n",
       "      <td>2006-12-31</td>\n",
       "      <td>21.5</td>\n",
       "      <td>Maryland</td>\n",
       "      <td>Telecommunications</td>\n",
       "      <td>False</td>\n",
       "    </tr>\n",
       "    <tr>\n",
       "      <th>1</th>\n",
       "      <td>2006-12-31</td>\n",
       "      <td>3239.3</td>\n",
       "      <td>Virginia</td>\n",
       "      <td>Service-Providing</td>\n",
       "      <td>False</td>\n",
       "    </tr>\n",
       "    <tr>\n",
       "      <th>2</th>\n",
       "      <td>2006-12-31</td>\n",
       "      <td>82.2</td>\n",
       "      <td>Alabama</td>\n",
       "      <td>Wholesale Trade</td>\n",
       "      <td>False</td>\n",
       "    </tr>\n",
       "    <tr>\n",
       "      <th>3</th>\n",
       "      <td>2006-12-31</td>\n",
       "      <td>427.4</td>\n",
       "      <td>Arizona</td>\n",
       "      <td>Goods Producing</td>\n",
       "      <td>False</td>\n",
       "    </tr>\n",
       "    <tr>\n",
       "      <th>4</th>\n",
       "      <td>2006-12-31</td>\n",
       "      <td>188.0</td>\n",
       "      <td>Alabama</td>\n",
       "      <td>Durable Goods</td>\n",
       "      <td>False</td>\n",
       "    </tr>\n",
       "    <tr>\n",
       "      <th>...</th>\n",
       "      <td>...</td>\n",
       "      <td>...</td>\n",
       "      <td>...</td>\n",
       "      <td>...</td>\n",
       "      <td>...</td>\n",
       "    </tr>\n",
       "    <tr>\n",
       "      <th>513</th>\n",
       "      <td>2006-12-31</td>\n",
       "      <td>12.5</td>\n",
       "      <td>Virgin Islands</td>\n",
       "      <td>Government</td>\n",
       "      <td>False</td>\n",
       "    </tr>\n",
       "    <tr>\n",
       "      <th>514</th>\n",
       "      <td>2006-12-31</td>\n",
       "      <td>219.5</td>\n",
       "      <td>Wyoming</td>\n",
       "      <td>Service-Providing</td>\n",
       "      <td>False</td>\n",
       "    </tr>\n",
       "    <tr>\n",
       "      <th>515</th>\n",
       "      <td>2006-12-31</td>\n",
       "      <td>5.5</td>\n",
       "      <td>Wyoming</td>\n",
       "      <td>Durable Goods</td>\n",
       "      <td>False</td>\n",
       "    </tr>\n",
       "    <tr>\n",
       "      <th>516</th>\n",
       "      <td>2006-12-31</td>\n",
       "      <td>296.9</td>\n",
       "      <td>Puerto Rico</td>\n",
       "      <td>Government</td>\n",
       "      <td>False</td>\n",
       "    </tr>\n",
       "    <tr>\n",
       "      <th>517</th>\n",
       "      <td>2006-12-31</td>\n",
       "      <td>2.3</td>\n",
       "      <td>Virgin Islands</td>\n",
       "      <td>Manufacturing</td>\n",
       "      <td>False</td>\n",
       "    </tr>\n",
       "  </tbody>\n",
       "</table>\n",
       "<p>518 rows × 5 columns</p>\n",
       "</div>"
      ],
      "text/plain": [
       "          Date   Value           State            Category  Adjusted\n",
       "0   2006-12-31    21.5        Maryland  Telecommunications     False\n",
       "1   2006-12-31  3239.3        Virginia   Service-Providing     False\n",
       "2   2006-12-31    82.2         Alabama     Wholesale Trade     False\n",
       "3   2006-12-31   427.4         Arizona     Goods Producing     False\n",
       "4   2006-12-31   188.0         Alabama       Durable Goods     False\n",
       "..         ...     ...             ...                 ...       ...\n",
       "513 2006-12-31    12.5  Virgin Islands          Government     False\n",
       "514 2006-12-31   219.5         Wyoming   Service-Providing     False\n",
       "515 2006-12-31     5.5         Wyoming       Durable Goods     False\n",
       "516 2006-12-31   296.9     Puerto Rico          Government     False\n",
       "517 2006-12-31     2.3  Virgin Islands       Manufacturing     False\n",
       "\n",
       "[518 rows x 5 columns]"
      ]
     },
     "execution_count": 11,
     "metadata": {},
     "output_type": "execute_result"
    }
   ],
   "source": [
    "dec06.reset_index(inplace=True);dec06"
   ]
  },
  {
   "cell_type": "code",
   "execution_count": 11,
   "metadata": {
    "slideshow": null
   },
   "outputs": [
    {
     "data": {
      "text/html": [
       "<div>\n",
       "<style scoped>\n",
       "    .dataframe tbody tr th:only-of-type {\n",
       "        vertical-align: middle;\n",
       "    }\n",
       "\n",
       "    .dataframe tbody tr th {\n",
       "        vertical-align: top;\n",
       "    }\n",
       "\n",
       "    .dataframe thead th {\n",
       "        text-align: right;\n",
       "    }\n",
       "</style>\n",
       "<table border=\"1\" class=\"dataframe\">\n",
       "  <thead>\n",
       "    <tr style=\"text-align: right;\">\n",
       "      <th></th>\n",
       "      <th></th>\n",
       "      <th>Value</th>\n",
       "    </tr>\n",
       "    <tr>\n",
       "      <th>State</th>\n",
       "      <th>Category</th>\n",
       "      <th></th>\n",
       "    </tr>\n",
       "  </thead>\n",
       "  <tbody>\n",
       "    <tr>\n",
       "      <th>Maryland</th>\n",
       "      <th>Telecommunications</th>\n",
       "      <td>21.5</td>\n",
       "    </tr>\n",
       "    <tr>\n",
       "      <th>Virginia</th>\n",
       "      <th>Service-Providing</th>\n",
       "      <td>3239.3</td>\n",
       "    </tr>\n",
       "    <tr>\n",
       "      <th>Alabama</th>\n",
       "      <th>Wholesale Trade</th>\n",
       "      <td>82.2</td>\n",
       "    </tr>\n",
       "    <tr>\n",
       "      <th>Arizona</th>\n",
       "      <th>Goods Producing</th>\n",
       "      <td>427.4</td>\n",
       "    </tr>\n",
       "    <tr>\n",
       "      <th>Alabama</th>\n",
       "      <th>Durable Goods</th>\n",
       "      <td>188.0</td>\n",
       "    </tr>\n",
       "    <tr>\n",
       "      <th>...</th>\n",
       "      <th>...</th>\n",
       "      <td>...</td>\n",
       "    </tr>\n",
       "    <tr>\n",
       "      <th>Virgin Islands</th>\n",
       "      <th>Government</th>\n",
       "      <td>12.5</td>\n",
       "    </tr>\n",
       "    <tr>\n",
       "      <th rowspan=\"2\" valign=\"top\">Wyoming</th>\n",
       "      <th>Service-Providing</th>\n",
       "      <td>219.5</td>\n",
       "    </tr>\n",
       "    <tr>\n",
       "      <th>Durable Goods</th>\n",
       "      <td>5.5</td>\n",
       "    </tr>\n",
       "    <tr>\n",
       "      <th>Puerto Rico</th>\n",
       "      <th>Government</th>\n",
       "      <td>296.9</td>\n",
       "    </tr>\n",
       "    <tr>\n",
       "      <th>Virgin Islands</th>\n",
       "      <th>Manufacturing</th>\n",
       "      <td>2.3</td>\n",
       "    </tr>\n",
       "  </tbody>\n",
       "</table>\n",
       "<p>518 rows × 1 columns</p>\n",
       "</div>"
      ],
      "text/plain": [
       "                                    Value\n",
       "State          Category                  \n",
       "Maryland       Telecommunications    21.5\n",
       "Virginia       Service-Providing   3239.3\n",
       "Alabama        Wholesale Trade       82.2\n",
       "Arizona        Goods Producing      427.4\n",
       "Alabama        Durable Goods        188.0\n",
       "...                                   ...\n",
       "Virgin Islands Government            12.5\n",
       "Wyoming        Service-Providing    219.5\n",
       "               Durable Goods          5.5\n",
       "Puerto Rico    Government           296.9\n",
       "Virgin Islands Manufacturing          2.3\n",
       "\n",
       "[518 rows x 1 columns]"
      ]
     },
     "execution_count": 11,
     "metadata": {},
     "output_type": "execute_result"
    }
   ],
   "source": [
    "val06 = dec06.set_index(['State', 'Category'])\n",
    "val15 = dec15.set_index(['State', 'Category'])\n",
    "val06.drop(columns=['Adjusted'], inplace=True)\n",
    "val06"
   ]
  },
  {
   "cell_type": "code",
   "execution_count": null,
   "metadata": {},
   "outputs": [],
   "source": [
    "val06['growth'] = ((val15['Value']-val06['Value'])/val06['Value'])*100\n"
   ]
  },
  {
   "cell_type": "code",
   "execution_count": null,
   "metadata": {},
   "outputs": [],
   "source": [
    "# I need to group the rows by state. We can only group by columns,\n",
    "# so I first change the indices back to columns\n",
    "val06.reset_index(inplace=True)\n",
    "val06.drop(columns=['Date','Value'], inplace=True)\n"
   ]
  },
  {
   "cell_type": "markdown",
   "metadata": {
    "slideshow": null
   },
   "source": [
    "### I write a function that takes the dataframe and returns the row with the maximum value and use it inside groupby function."
   ]
  },
  {
   "cell_type": "code",
   "execution_count": null,
   "metadata": {},
   "outputs": [],
   "source": [
    "def largest_value(df):\n",
    "    return df[df['growth'] == df['growth'].max()]"
   ]
  },
  {
   "cell_type": "code",
   "execution_count": null,
   "metadata": {},
   "outputs": [],
   "source": [
    "fastest_by_state = val06.groupby('State').apply(largest_value)\n",
    "fastest_by_state"
   ]
  },
  {
   "cell_type": "markdown",
   "metadata": {
    "slideshow": null
   },
   "source": [
    "### Next I find the maximum _total national_ employment number for each industry. That is, the number of people employed nationally in each industry during the month that that industry peaked in our data set."
   ]
  },
  {
   "cell_type": "code",
   "execution_count": 28,
   "metadata": {},
   "outputs": [],
   "source": [
    "df_raw.reset_index(inplace=True)"
   ]
  },
  {
   "cell_type": "code",
   "execution_count": null,
   "metadata": {},
   "outputs": [],
   "source": [
    "df_raw['Value'] = df_raw['Value']*1000"
   ]
  },
  {
   "cell_type": "code",
   "execution_count": 13,
   "metadata": {},
   "outputs": [
    {
     "data": {
      "text/html": [
       "<div>\n",
       "<style scoped>\n",
       "    .dataframe tbody tr th:only-of-type {\n",
       "        vertical-align: middle;\n",
       "    }\n",
       "\n",
       "    .dataframe tbody tr th {\n",
       "        vertical-align: top;\n",
       "    }\n",
       "\n",
       "    .dataframe thead th {\n",
       "        text-align: right;\n",
       "    }\n",
       "</style>\n",
       "<table border=\"1\" class=\"dataframe\">\n",
       "  <thead>\n",
       "    <tr style=\"text-align: right;\">\n",
       "      <th></th>\n",
       "      <th>Value</th>\n",
       "      <th>State</th>\n",
       "      <th>Category</th>\n",
       "      <th>Adjusted</th>\n",
       "    </tr>\n",
       "    <tr>\n",
       "      <th>Date</th>\n",
       "      <th></th>\n",
       "      <th></th>\n",
       "      <th></th>\n",
       "      <th></th>\n",
       "    </tr>\n",
       "  </thead>\n",
       "  <tbody>\n",
       "    <tr>\n",
       "      <th>2006-01-31</th>\n",
       "      <td>14800.0</td>\n",
       "      <td>Arizona</td>\n",
       "      <td>Air Transportation</td>\n",
       "      <td>False</td>\n",
       "    </tr>\n",
       "    <tr>\n",
       "      <th>2006-02-28</th>\n",
       "      <td>14800.0</td>\n",
       "      <td>Arizona</td>\n",
       "      <td>Air Transportation</td>\n",
       "      <td>False</td>\n",
       "    </tr>\n",
       "    <tr>\n",
       "      <th>2006-03-31</th>\n",
       "      <td>14900.0</td>\n",
       "      <td>Arizona</td>\n",
       "      <td>Air Transportation</td>\n",
       "      <td>False</td>\n",
       "    </tr>\n",
       "    <tr>\n",
       "      <th>2006-04-30</th>\n",
       "      <td>15700.0</td>\n",
       "      <td>Arizona</td>\n",
       "      <td>Air Transportation</td>\n",
       "      <td>False</td>\n",
       "    </tr>\n",
       "    <tr>\n",
       "      <th>2006-05-31</th>\n",
       "      <td>15700.0</td>\n",
       "      <td>Arizona</td>\n",
       "      <td>Air Transportation</td>\n",
       "      <td>False</td>\n",
       "    </tr>\n",
       "    <tr>\n",
       "      <th>...</th>\n",
       "      <td>...</td>\n",
       "      <td>...</td>\n",
       "      <td>...</td>\n",
       "      <td>...</td>\n",
       "    </tr>\n",
       "    <tr>\n",
       "      <th>2015-08-31</th>\n",
       "      <td>12600.0</td>\n",
       "      <td>Washington</td>\n",
       "      <td>Air Transportation</td>\n",
       "      <td>False</td>\n",
       "    </tr>\n",
       "    <tr>\n",
       "      <th>2015-09-30</th>\n",
       "      <td>12600.0</td>\n",
       "      <td>Washington</td>\n",
       "      <td>Air Transportation</td>\n",
       "      <td>False</td>\n",
       "    </tr>\n",
       "    <tr>\n",
       "      <th>2015-10-31</th>\n",
       "      <td>12900.0</td>\n",
       "      <td>Washington</td>\n",
       "      <td>Air Transportation</td>\n",
       "      <td>False</td>\n",
       "    </tr>\n",
       "    <tr>\n",
       "      <th>2015-11-30</th>\n",
       "      <td>12800.0</td>\n",
       "      <td>Washington</td>\n",
       "      <td>Air Transportation</td>\n",
       "      <td>False</td>\n",
       "    </tr>\n",
       "    <tr>\n",
       "      <th>2015-12-31</th>\n",
       "      <td>12800.0</td>\n",
       "      <td>Washington</td>\n",
       "      <td>Air Transportation</td>\n",
       "      <td>False</td>\n",
       "    </tr>\n",
       "  </tbody>\n",
       "</table>\n",
       "<p>2400 rows × 4 columns</p>\n",
       "</div>"
      ],
      "text/plain": [
       "              Value       State            Category  Adjusted\n",
       "Date                                                         \n",
       "2006-01-31  14800.0     Arizona  Air Transportation     False\n",
       "2006-02-28  14800.0     Arizona  Air Transportation     False\n",
       "2006-03-31  14900.0     Arizona  Air Transportation     False\n",
       "2006-04-30  15700.0     Arizona  Air Transportation     False\n",
       "2006-05-31  15700.0     Arizona  Air Transportation     False\n",
       "...             ...         ...                 ...       ...\n",
       "2015-08-31  12600.0  Washington  Air Transportation     False\n",
       "2015-09-30  12600.0  Washington  Air Transportation     False\n",
       "2015-10-31  12900.0  Washington  Air Transportation     False\n",
       "2015-11-30  12800.0  Washington  Air Transportation     False\n",
       "2015-12-31  12800.0  Washington  Air Transportation     False\n",
       "\n",
       "[2400 rows x 4 columns]"
      ]
     },
     "execution_count": 13,
     "metadata": {},
     "output_type": "execute_result"
    }
   ],
   "source": [
    "## looking at one industry\n",
    "air_transp = df_raw[df_raw['Category'] == 'Air Transportation'];air_transp"
   ]
  },
  {
   "cell_type": "code",
   "execution_count": 27,
   "metadata": {},
   "outputs": [
    {
     "data": {
      "text/html": [
       "<div>\n",
       "<style scoped>\n",
       "    .dataframe tbody tr th:only-of-type {\n",
       "        vertical-align: middle;\n",
       "    }\n",
       "\n",
       "    .dataframe tbody tr th {\n",
       "        vertical-align: top;\n",
       "    }\n",
       "\n",
       "    .dataframe thead th {\n",
       "        text-align: right;\n",
       "    }\n",
       "</style>\n",
       "<table border=\"1\" class=\"dataframe\">\n",
       "  <thead>\n",
       "    <tr style=\"text-align: right;\">\n",
       "      <th></th>\n",
       "      <th>Value</th>\n",
       "      <th>Adjusted</th>\n",
       "    </tr>\n",
       "    <tr>\n",
       "      <th>Date</th>\n",
       "      <th></th>\n",
       "      <th></th>\n",
       "    </tr>\n",
       "  </thead>\n",
       "  <tbody>\n",
       "    <tr>\n",
       "      <th>2008-03-31</th>\n",
       "      <td>402800.0</td>\n",
       "      <td>0</td>\n",
       "    </tr>\n",
       "  </tbody>\n",
       "</table>\n",
       "</div>"
      ],
      "text/plain": [
       "               Value  Adjusted\n",
       "Date                          \n",
       "2008-03-31  402800.0         0"
      ]
     },
     "execution_count": 27,
     "metadata": {},
     "output_type": "execute_result"
    }
   ],
   "source": [
    "final = air_transp.groupby('Date').sum().sort_values('Value', ascending=False);final[0:1]"
   ]
  },
  {
   "cell_type": "code",
   "execution_count": 30,
   "metadata": {},
   "outputs": [],
   "source": [
    "def max_emp(x):\n",
    "    final = x.groupby('Date').sum().sort_values('Value', ascending=False)\n",
    "    return final[0:1]"
   ]
  },
  {
   "cell_type": "code",
   "execution_count": 37,
   "metadata": {},
   "outputs": [],
   "source": [
    "finaldata = df_raw.groupby('Category'). apply(max_emp); finaldata.reset_index(inplace=True)"
   ]
  },
  {
   "cell_type": "markdown",
   "metadata": {
    "slideshow": null
   },
   "source": [
    "### Now I find the quarterly percent change for national total non-farm employment Using the seasonally adjusted data "
   ]
  },
  {
   "cell_type": "code",
   "execution_count": null,
   "metadata": {},
   "outputs": [],
   "source": [
    "df_adj = df_adj[df_adj['Category']=='Total Nonfarm']\n"
   ]
  },
  {
   "cell_type": "code",
   "execution_count": 113,
   "metadata": {},
   "outputs": [],
   "source": [
    "new_adj = df_adj.resample('Q').sum()\n",
    "new_adj.reset_index(inplace=True); new_adj"
   ]
  },
  {
   "cell_type": "code",
   "execution_count": null,
   "metadata": {},
   "outputs": [],
   "source": [
    "by_date = df_adj.loc['2006-03-31']; by_date"
   ]
  },
  {
   "cell_type": "code",
   "execution_count": 93,
   "metadata": {},
   "outputs": [
    {
     "data": {
      "text/plain": [
       "136907.0"
      ]
     },
     "execution_count": 93,
     "metadata": {},
     "output_type": "execute_result"
    }
   ],
   "source": [
    "s = by_date['Value'].sum(); s"
   ]
  },
  {
   "cell_type": "code",
   "execution_count": null,
   "metadata": {},
   "outputs": [],
   "source": [
    "by_date2 = df_adj.loc['2006-06-30']; by_date2"
   ]
  },
  {
   "cell_type": "code",
   "execution_count": 95,
   "metadata": {},
   "outputs": [
    {
     "data": {
      "text/plain": [
       "137364.60000000003"
      ]
     },
     "execution_count": 95,
     "metadata": {},
     "output_type": "execute_result"
    }
   ],
   "source": [
    "s2 = by_date2['Value'].sum(); s2"
   ]
  },
  {
   "cell_type": "code",
   "execution_count": 96,
   "metadata": {},
   "outputs": [
    {
     "data": {
      "text/plain": [
       "0.0033424149239997584"
      ]
     },
     "execution_count": 96,
     "metadata": {},
     "output_type": "execute_result"
    }
   ],
   "source": [
    "(137364.60000000003 - 136907.0) /136907.0\n",
    "\n"
   ]
  },
  {
   "cell_type": "code",
   "execution_count": 97,
   "metadata": {},
   "outputs": [],
   "source": [
    "byDate = by_date.reset_index()"
   ]
  },
  {
   "cell_type": "code",
   "execution_count": 126,
   "metadata": {},
   "outputs": [],
   "source": [
    "def getvalues():\n",
    "    return [df_adj.loc[i] for i in new_adj['Date']] "
   ]
  },
  {
   "cell_type": "code",
   "execution_count": null,
   "metadata": {},
   "outputs": [],
   "source": [
    "data = getvalues(); data"
   ]
  },
  {
   "cell_type": "code",
   "execution_count": 128,
   "metadata": {},
   "outputs": [],
   "source": [
    "df = pd.concat(data)\n"
   ]
  },
  {
   "cell_type": "code",
   "execution_count": 130,
   "metadata": {},
   "outputs": [],
   "source": [
    "df.reset_index(inplace=True)"
   ]
  },
  {
   "cell_type": "code",
   "execution_count": 140,
   "metadata": {},
   "outputs": [],
   "source": [
    "final = df.groupby('Date').sum()"
   ]
  },
  {
   "cell_type": "code",
   "execution_count": 141,
   "metadata": {},
   "outputs": [],
   "source": [
    "final = final.pct_change()"
   ]
  },
  {
   "cell_type": "code",
   "execution_count": null,
   "metadata": {},
   "outputs": [],
   "source": [
    "final.reset_index(inplace=True); final"
   ]
  },
  {
   "cell_type": "code",
   "execution_count": 145,
   "metadata": {},
   "outputs": [],
   "source": [
    "from datetime import datetime\n",
    "Date = final['Date']\n",
    "Date = Date.astype(str); Date"
   ]
  },
  {
   "cell_type": "code",
   "execution_count": 148,
   "metadata": {},
   "outputs": [],
   "source": [
    "final['Date'] = Date"
   ]
  },
  {
   "cell_type": "code",
   "execution_count": 149,
   "metadata": {},
   "outputs": [],
   "source": [
    "final = final[1:]"
   ]
  },
  {
   "cell_type": "code",
   "execution_count": 150,
   "metadata": {},
   "outputs": [],
   "source": [
    "quarterly_nonfarm = list(zip(final['Date'], final['Value']*100))\n"
   ]
  },
  {
   "cell_type": "markdown",
   "metadata": {
    "slideshow": null
   },
   "source": [
    "### Getting the 3rd largest industry in each state in December 2015 where the employment in the 3rd largest industry is a percentage of the state's total industry employment in December 2015."
   ]
  },
  {
   "cell_type": "code",
   "execution_count": 182,
   "metadata": {},
   "outputs": [],
   "source": [
    "## Checkiing with one state first\n",
    "specific_state = dec15.groupby(['State'])\n",
    "Alabama = specific_state.get_group('Alabama')\n"
   ]
  },
  {
   "cell_type": "code",
   "execution_count": 183,
   "metadata": {},
   "outputs": [],
   "source": [
    "## Alabama's top employed industries\n",
    "\n",
    "Top_industries_Al = Alabama.groupby('Category').max()\n",
    "Top_industries_Al = Top_industries_Al.sort_values('Value', ascending=False)\n"
   ]
  },
  {
   "cell_type": "code",
   "execution_count": 185,
   "metadata": {},
   "outputs": [],
   "source": [
    "Top_industries_Al.reset_index(inplace=True)"
   ]
  },
  {
   "cell_type": "code",
   "execution_count": 186,
   "metadata": {},
   "outputs": [
    {
     "data": {
      "text/plain": [
       "Category    Goods Producing\n",
       "Value                 354.4\n",
       "State               Alabama\n",
       "Adjusted              False\n",
       "Name: 2, dtype: object"
      ]
     },
     "execution_count": 186,
     "metadata": {},
     "output_type": "execute_result"
    }
   ],
   "source": [
    "# Third best industry in Alabama\n",
    "third_best_al = Top_industries_Al.loc[2]\n",
    "third_best_al"
   ]
  },
  {
   "cell_type": "code",
   "execution_count": 199,
   "metadata": {},
   "outputs": [],
   "source": [
    "def myfunc(x):\n",
    "    top_industries = x.groupby('Category').max().sort_values('Value', ascending=False)\n",
    "    top_industries.reset_index(inplace=True)\n",
    "    return top_industries.loc[2]\n",
    "    "
   ]
  },
  {
   "cell_type": "code",
   "execution_count": 210,
   "metadata": {},
   "outputs": [
    {
     "data": {
      "text/plain": [
       "Category    Goods Producing\n",
       "Value                2085.8\n",
       "State               Wyoming\n",
       "Adjusted              False\n",
       "Name: 2, dtype: object"
      ]
     },
     "execution_count": 210,
     "metadata": {},
     "output_type": "execute_result"
    }
   ],
   "source": [
    "myfunc(dec15)"
   ]
  },
  {
   "cell_type": "code",
   "execution_count": 205,
   "metadata": {},
   "outputs": [],
   "source": [
    "df = dec15.groupby('State').apply(myfunc).drop(columns='State')"
   ]
  },
  {
   "cell_type": "code",
   "execution_count": 212,
   "metadata": {},
   "outputs": [],
   "source": [
    "df.columns = df.columns.map(''.join)\n"
   ]
  },
  {
   "cell_type": "code",
   "execution_count": 215,
   "metadata": {},
   "outputs": [],
   "source": [
    "df.reset_index(inplace=True)"
   ]
  },
  {
   "cell_type": "code",
   "execution_count": null,
   "metadata": {},
   "outputs": [],
   "source": [
    "# total employment across states\n",
    "total_employed = dec15.groupby('State').sum()\n",
    "total_employed.reset_index(inplace=True)\n",
    "total_employed"
   ]
  },
  {
   "cell_type": "code",
   "execution_count": 218,
   "metadata": {},
   "outputs": [],
   "source": [
    "df['Value'] = (df['Value']/total_employed['Value'])*100"
   ]
  },
  {
   "cell_type": "code",
   "execution_count": 219,
   "metadata": {
    "scrolled": true
   },
   "outputs": [
    {
     "data": {
      "text/html": [
       "<div>\n",
       "<style scoped>\n",
       "    .dataframe tbody tr th:only-of-type {\n",
       "        vertical-align: middle;\n",
       "    }\n",
       "\n",
       "    .dataframe tbody tr th {\n",
       "        vertical-align: top;\n",
       "    }\n",
       "\n",
       "    .dataframe thead th {\n",
       "        text-align: right;\n",
       "    }\n",
       "</style>\n",
       "<table border=\"1\" class=\"dataframe\">\n",
       "  <thead>\n",
       "    <tr style=\"text-align: right;\">\n",
       "      <th>2</th>\n",
       "      <th>State</th>\n",
       "      <th>Category</th>\n",
       "      <th>Value</th>\n",
       "      <th>Adjusted</th>\n",
       "    </tr>\n",
       "  </thead>\n",
       "  <tbody>\n",
       "    <tr>\n",
       "      <th>0</th>\n",
       "      <td>Alabama</td>\n",
       "      <td>Goods Producing</td>\n",
       "      <td>11.779174</td>\n",
       "      <td>False</td>\n",
       "    </tr>\n",
       "    <tr>\n",
       "      <th>1</th>\n",
       "      <td>Alaska</td>\n",
       "      <td>Goods Producing</td>\n",
       "      <td>8.361921</td>\n",
       "      <td>False</td>\n",
       "    </tr>\n",
       "    <tr>\n",
       "      <th>2</th>\n",
       "      <td>Arizona</td>\n",
       "      <td>Goods Producing</td>\n",
       "      <td>8.240148</td>\n",
       "      <td>False</td>\n",
       "    </tr>\n",
       "    <tr>\n",
       "      <th>3</th>\n",
       "      <td>Arkansas</td>\n",
       "      <td>Goods Producing</td>\n",
       "      <td>11.825392</td>\n",
       "      <td>False</td>\n",
       "    </tr>\n",
       "    <tr>\n",
       "      <th>4</th>\n",
       "      <td>California</td>\n",
       "      <td>Goods Producing</td>\n",
       "      <td>9.125592</td>\n",
       "      <td>False</td>\n",
       "    </tr>\n",
       "    <tr>\n",
       "      <th>5</th>\n",
       "      <td>Colorado</td>\n",
       "      <td>Goods Producing</td>\n",
       "      <td>8.966233</td>\n",
       "      <td>False</td>\n",
       "    </tr>\n",
       "    <tr>\n",
       "      <th>6</th>\n",
       "      <td>Connecticut</td>\n",
       "      <td>Goods Producing</td>\n",
       "      <td>9.122689</td>\n",
       "      <td>False</td>\n",
       "    </tr>\n",
       "    <tr>\n",
       "      <th>7</th>\n",
       "      <td>Delaware</td>\n",
       "      <td>Goods Producing</td>\n",
       "      <td>7.931386</td>\n",
       "      <td>False</td>\n",
       "    </tr>\n",
       "    <tr>\n",
       "      <th>8</th>\n",
       "      <td>District of Columbia</td>\n",
       "      <td>Goods Producing</td>\n",
       "      <td>1.647766</td>\n",
       "      <td>False</td>\n",
       "    </tr>\n",
       "    <tr>\n",
       "      <th>9</th>\n",
       "      <td>Florida</td>\n",
       "      <td>Goods Producing</td>\n",
       "      <td>7.388216</td>\n",
       "      <td>False</td>\n",
       "    </tr>\n",
       "    <tr>\n",
       "      <th>10</th>\n",
       "      <td>Georgia</td>\n",
       "      <td>Goods Producing</td>\n",
       "      <td>9.212385</td>\n",
       "      <td>False</td>\n",
       "    </tr>\n",
       "    <tr>\n",
       "      <th>11</th>\n",
       "      <td>Hawaii</td>\n",
       "      <td>Goods Producing</td>\n",
       "      <td>6.159170</td>\n",
       "      <td>False</td>\n",
       "    </tr>\n",
       "    <tr>\n",
       "      <th>12</th>\n",
       "      <td>Idaho</td>\n",
       "      <td>Goods Producing</td>\n",
       "      <td>10.835563</td>\n",
       "      <td>False</td>\n",
       "    </tr>\n",
       "    <tr>\n",
       "      <th>13</th>\n",
       "      <td>Illinois</td>\n",
       "      <td>Goods Producing</td>\n",
       "      <td>9.328904</td>\n",
       "      <td>False</td>\n",
       "    </tr>\n",
       "    <tr>\n",
       "      <th>14</th>\n",
       "      <td>Indiana</td>\n",
       "      <td>Manufacturing</td>\n",
       "      <td>10.856798</td>\n",
       "      <td>False</td>\n",
       "    </tr>\n",
       "    <tr>\n",
       "      <th>15</th>\n",
       "      <td>Iowa</td>\n",
       "      <td>Government</td>\n",
       "      <td>11.187798</td>\n",
       "      <td>False</td>\n",
       "    </tr>\n",
       "    <tr>\n",
       "      <th>16</th>\n",
       "      <td>Kansas</td>\n",
       "      <td>Goods Producing</td>\n",
       "      <td>11.092557</td>\n",
       "      <td>False</td>\n",
       "    </tr>\n",
       "    <tr>\n",
       "      <th>17</th>\n",
       "      <td>Kentucky</td>\n",
       "      <td>Government</td>\n",
       "      <td>11.160049</td>\n",
       "      <td>False</td>\n",
       "    </tr>\n",
       "    <tr>\n",
       "      <th>18</th>\n",
       "      <td>Louisiana</td>\n",
       "      <td>Goods Producing</td>\n",
       "      <td>11.696728</td>\n",
       "      <td>False</td>\n",
       "    </tr>\n",
       "    <tr>\n",
       "      <th>19</th>\n",
       "      <td>Maine</td>\n",
       "      <td>Goods Producing</td>\n",
       "      <td>9.660450</td>\n",
       "      <td>False</td>\n",
       "    </tr>\n",
       "    <tr>\n",
       "      <th>20</th>\n",
       "      <td>Maryland</td>\n",
       "      <td>Goods Producing</td>\n",
       "      <td>7.452157</td>\n",
       "      <td>False</td>\n",
       "    </tr>\n",
       "    <tr>\n",
       "      <th>21</th>\n",
       "      <td>Massachusetts</td>\n",
       "      <td>Goods Producing</td>\n",
       "      <td>8.279702</td>\n",
       "      <td>False</td>\n",
       "    </tr>\n",
       "    <tr>\n",
       "      <th>22</th>\n",
       "      <td>Michigan</td>\n",
       "      <td>Government</td>\n",
       "      <td>9.527818</td>\n",
       "      <td>False</td>\n",
       "    </tr>\n",
       "    <tr>\n",
       "      <th>23</th>\n",
       "      <td>Minnesota</td>\n",
       "      <td>Government</td>\n",
       "      <td>10.370406</td>\n",
       "      <td>False</td>\n",
       "    </tr>\n",
       "    <tr>\n",
       "      <th>24</th>\n",
       "      <td>Mississippi</td>\n",
       "      <td>Goods Producing</td>\n",
       "      <td>11.279277</td>\n",
       "      <td>False</td>\n",
       "    </tr>\n",
       "    <tr>\n",
       "      <th>25</th>\n",
       "      <td>Missouri</td>\n",
       "      <td>Goods Producing</td>\n",
       "      <td>9.589451</td>\n",
       "      <td>False</td>\n",
       "    </tr>\n",
       "    <tr>\n",
       "      <th>26</th>\n",
       "      <td>Montana</td>\n",
       "      <td>Goods Producing</td>\n",
       "      <td>8.298106</td>\n",
       "      <td>False</td>\n",
       "    </tr>\n",
       "    <tr>\n",
       "      <th>27</th>\n",
       "      <td>Nebraska</td>\n",
       "      <td>Goods Producing</td>\n",
       "      <td>10.004748</td>\n",
       "      <td>False</td>\n",
       "    </tr>\n",
       "    <tr>\n",
       "      <th>28</th>\n",
       "      <td>Nevada</td>\n",
       "      <td>Goods Producing</td>\n",
       "      <td>8.017315</td>\n",
       "      <td>False</td>\n",
       "    </tr>\n",
       "    <tr>\n",
       "      <th>29</th>\n",
       "      <td>New Hampshire</td>\n",
       "      <td>Goods Producing</td>\n",
       "      <td>10.138199</td>\n",
       "      <td>False</td>\n",
       "    </tr>\n",
       "    <tr>\n",
       "      <th>30</th>\n",
       "      <td>New Jersey</td>\n",
       "      <td>Goods Producing</td>\n",
       "      <td>7.139655</td>\n",
       "      <td>False</td>\n",
       "    </tr>\n",
       "    <tr>\n",
       "      <th>31</th>\n",
       "      <td>New Mexico</td>\n",
       "      <td>Goods Producing</td>\n",
       "      <td>8.444524</td>\n",
       "      <td>False</td>\n",
       "    </tr>\n",
       "    <tr>\n",
       "      <th>32</th>\n",
       "      <td>New York</td>\n",
       "      <td>Goods Producing</td>\n",
       "      <td>6.530260</td>\n",
       "      <td>False</td>\n",
       "    </tr>\n",
       "    <tr>\n",
       "      <th>33</th>\n",
       "      <td>North Carolina</td>\n",
       "      <td>Goods Producing</td>\n",
       "      <td>10.689688</td>\n",
       "      <td>False</td>\n",
       "    </tr>\n",
       "    <tr>\n",
       "      <th>34</th>\n",
       "      <td>North Dakota</td>\n",
       "      <td>Goods Producing</td>\n",
       "      <td>11.456103</td>\n",
       "      <td>False</td>\n",
       "    </tr>\n",
       "    <tr>\n",
       "      <th>35</th>\n",
       "      <td>Ohio</td>\n",
       "      <td>Government</td>\n",
       "      <td>9.820704</td>\n",
       "      <td>False</td>\n",
       "    </tr>\n",
       "    <tr>\n",
       "      <th>36</th>\n",
       "      <td>Oklahoma</td>\n",
       "      <td>Goods Producing</td>\n",
       "      <td>10.643853</td>\n",
       "      <td>False</td>\n",
       "    </tr>\n",
       "    <tr>\n",
       "      <th>37</th>\n",
       "      <td>Oregon</td>\n",
       "      <td>Goods Producing</td>\n",
       "      <td>10.467304</td>\n",
       "      <td>False</td>\n",
       "    </tr>\n",
       "    <tr>\n",
       "      <th>38</th>\n",
       "      <td>Pennsylvania</td>\n",
       "      <td>Government</td>\n",
       "      <td>8.727153</td>\n",
       "      <td>False</td>\n",
       "    </tr>\n",
       "    <tr>\n",
       "      <th>39</th>\n",
       "      <td>Puerto Rico</td>\n",
       "      <td>Goods Producing</td>\n",
       "      <td>7.834066</td>\n",
       "      <td>False</td>\n",
       "    </tr>\n",
       "    <tr>\n",
       "      <th>40</th>\n",
       "      <td>Rhode Island</td>\n",
       "      <td>Goods Producing</td>\n",
       "      <td>9.024723</td>\n",
       "      <td>False</td>\n",
       "    </tr>\n",
       "    <tr>\n",
       "      <th>41</th>\n",
       "      <td>South Carolina</td>\n",
       "      <td>Goods Producing</td>\n",
       "      <td>11.308287</td>\n",
       "      <td>False</td>\n",
       "    </tr>\n",
       "    <tr>\n",
       "      <th>42</th>\n",
       "      <td>South Dakota</td>\n",
       "      <td>Goods Producing</td>\n",
       "      <td>11.039182</td>\n",
       "      <td>False</td>\n",
       "    </tr>\n",
       "    <tr>\n",
       "      <th>43</th>\n",
       "      <td>Tennessee</td>\n",
       "      <td>Government</td>\n",
       "      <td>10.142002</td>\n",
       "      <td>False</td>\n",
       "    </tr>\n",
       "    <tr>\n",
       "      <th>44</th>\n",
       "      <td>Texas</td>\n",
       "      <td>Goods Producing</td>\n",
       "      <td>10.469114</td>\n",
       "      <td>False</td>\n",
       "    </tr>\n",
       "    <tr>\n",
       "      <th>45</th>\n",
       "      <td>Utah</td>\n",
       "      <td>Goods Producing</td>\n",
       "      <td>11.021134</td>\n",
       "      <td>False</td>\n",
       "    </tr>\n",
       "    <tr>\n",
       "      <th>46</th>\n",
       "      <td>Vermont</td>\n",
       "      <td>Goods Producing</td>\n",
       "      <td>10.476830</td>\n",
       "      <td>False</td>\n",
       "    </tr>\n",
       "    <tr>\n",
       "      <th>47</th>\n",
       "      <td>Virgin Islands</td>\n",
       "      <td>Goods Producing</td>\n",
       "      <td>4.054054</td>\n",
       "      <td>False</td>\n",
       "    </tr>\n",
       "    <tr>\n",
       "      <th>48</th>\n",
       "      <td>Virginia</td>\n",
       "      <td>Goods Producing</td>\n",
       "      <td>8.173850</td>\n",
       "      <td>False</td>\n",
       "    </tr>\n",
       "    <tr>\n",
       "      <th>49</th>\n",
       "      <td>Washington</td>\n",
       "      <td>Goods Producing</td>\n",
       "      <td>10.386750</td>\n",
       "      <td>False</td>\n",
       "    </tr>\n",
       "    <tr>\n",
       "      <th>50</th>\n",
       "      <td>West Virginia</td>\n",
       "      <td>Goods Producing</td>\n",
       "      <td>9.778332</td>\n",
       "      <td>False</td>\n",
       "    </tr>\n",
       "    <tr>\n",
       "      <th>51</th>\n",
       "      <td>Wisconsin</td>\n",
       "      <td>Manufacturing</td>\n",
       "      <td>10.683068</td>\n",
       "      <td>False</td>\n",
       "    </tr>\n",
       "    <tr>\n",
       "      <th>52</th>\n",
       "      <td>Wyoming</td>\n",
       "      <td>Goods Producing</td>\n",
       "      <td>12.386284</td>\n",
       "      <td>False</td>\n",
       "    </tr>\n",
       "  </tbody>\n",
       "</table>\n",
       "</div>"
      ],
      "text/plain": [
       "2                  State         Category      Value  Adjusted\n",
       "0                Alabama  Goods Producing  11.779174     False\n",
       "1                 Alaska  Goods Producing   8.361921     False\n",
       "2                Arizona  Goods Producing   8.240148     False\n",
       "3               Arkansas  Goods Producing  11.825392     False\n",
       "4             California  Goods Producing   9.125592     False\n",
       "5               Colorado  Goods Producing   8.966233     False\n",
       "6            Connecticut  Goods Producing   9.122689     False\n",
       "7               Delaware  Goods Producing   7.931386     False\n",
       "8   District of Columbia  Goods Producing   1.647766     False\n",
       "9                Florida  Goods Producing   7.388216     False\n",
       "10               Georgia  Goods Producing   9.212385     False\n",
       "11                Hawaii  Goods Producing   6.159170     False\n",
       "12                 Idaho  Goods Producing  10.835563     False\n",
       "13              Illinois  Goods Producing   9.328904     False\n",
       "14               Indiana    Manufacturing  10.856798     False\n",
       "15                  Iowa       Government  11.187798     False\n",
       "16                Kansas  Goods Producing  11.092557     False\n",
       "17              Kentucky       Government  11.160049     False\n",
       "18             Louisiana  Goods Producing  11.696728     False\n",
       "19                 Maine  Goods Producing   9.660450     False\n",
       "20              Maryland  Goods Producing   7.452157     False\n",
       "21         Massachusetts  Goods Producing   8.279702     False\n",
       "22              Michigan       Government   9.527818     False\n",
       "23             Minnesota       Government  10.370406     False\n",
       "24           Mississippi  Goods Producing  11.279277     False\n",
       "25              Missouri  Goods Producing   9.589451     False\n",
       "26               Montana  Goods Producing   8.298106     False\n",
       "27              Nebraska  Goods Producing  10.004748     False\n",
       "28                Nevada  Goods Producing   8.017315     False\n",
       "29         New Hampshire  Goods Producing  10.138199     False\n",
       "30            New Jersey  Goods Producing   7.139655     False\n",
       "31            New Mexico  Goods Producing   8.444524     False\n",
       "32              New York  Goods Producing   6.530260     False\n",
       "33        North Carolina  Goods Producing  10.689688     False\n",
       "34          North Dakota  Goods Producing  11.456103     False\n",
       "35                  Ohio       Government   9.820704     False\n",
       "36              Oklahoma  Goods Producing  10.643853     False\n",
       "37                Oregon  Goods Producing  10.467304     False\n",
       "38          Pennsylvania       Government   8.727153     False\n",
       "39           Puerto Rico  Goods Producing   7.834066     False\n",
       "40          Rhode Island  Goods Producing   9.024723     False\n",
       "41        South Carolina  Goods Producing  11.308287     False\n",
       "42          South Dakota  Goods Producing  11.039182     False\n",
       "43             Tennessee       Government  10.142002     False\n",
       "44                 Texas  Goods Producing  10.469114     False\n",
       "45                  Utah  Goods Producing  11.021134     False\n",
       "46               Vermont  Goods Producing  10.476830     False\n",
       "47        Virgin Islands  Goods Producing   4.054054     False\n",
       "48              Virginia  Goods Producing   8.173850     False\n",
       "49            Washington  Goods Producing  10.386750     False\n",
       "50         West Virginia  Goods Producing   9.778332     False\n",
       "51             Wisconsin    Manufacturing  10.683068     False\n",
       "52               Wyoming  Goods Producing  12.386284     False"
      ]
     },
     "execution_count": 219,
     "metadata": {},
     "output_type": "execute_result"
    }
   ],
   "source": [
    "df"
   ]
  }
 ],
 "metadata": {
  "kernelspec": {
   "display_name": "Python 3 (ipykernel)",
   "language": "python",
   "name": "python3"
  },
  "language_info": {
   "codemirror_mode": {
    "name": "ipython",
    "version": 3
   },
   "file_extension": ".py",
   "mimetype": "text/x-python",
   "name": "python",
   "nbconvert_exporter": "python",
   "pygments_lexer": "ipython3",
   "version": "3.9.12"
  },
  "nbclean": true
 },
 "nbformat": 4,
 "nbformat_minor": 4
}
